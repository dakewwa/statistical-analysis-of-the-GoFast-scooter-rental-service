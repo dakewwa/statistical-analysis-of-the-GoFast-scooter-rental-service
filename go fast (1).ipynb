{
 "cells": [
  {
   "cell_type": "markdown",
   "id": "40ced2f9",
   "metadata": {},
   "source": [
    "# Проект \"Исследование поведения пользователей в сервисе аренды самокатов GoFast\"\n",
    "\n",
    "В данном проекте мы проведем анализ данных о пользователях и их поездках в сервисе аренды самокатов GoFast. Наша цель - выявить закономерности и понять особенности использования сервиса, а также проверить несколько гипотез, которые могут быть важны для развития бизнеса.\n",
    "\n",
    "GoFast - популярный сервис аренды самокатов, предоставляющий пользователям удобное мобильное приложение для совершения поездок по городу. Пользователи могут воспользоваться услугами сервиса как с подпиской, так и без нее.\n",
    "\n",
    "Основные типы подписок:\n",
    "\n",
    "Без подписки:\n",
    "\n",
    "Абонентская плата отсутствует.\n",
    "Стоимость одной минуты поездки - 8 рублей.\n",
    "Стоимость старта (начала поездки) - 50 рублей.\n",
    "Подписка Ultra:\n",
    "\n",
    "Абонентская плата - 199 рублей в месяц.\n",
    "Стоимость одной минуты поездки - 6 рублей.\n",
    "Стоимость старта - бесплатно."
   ]
  },
  {
   "cell_type": "code",
   "execution_count": 1,
   "id": "72576667",
   "metadata": {},
   "outputs": [],
   "source": [
    "import pandas as pd\n",
    "import matplotlib.pyplot as plt\n",
    "import seaborn as sns\n",
    "import numpy as np\n",
    "import math\n",
    "from scipy import stats as st\n",
    "from scipy.stats import binom\n",
    "from scipy.stats import norm"
   ]
  },
  {
   "cell_type": "markdown",
   "id": "c42cbe00",
   "metadata": {},
   "source": [
    "#### Шаг 1. Загрузка данных"
   ]
  },
  {
   "cell_type": "code",
   "execution_count": 2,
   "id": "eff9f206",
   "metadata": {
    "scrolled": true
   },
   "outputs": [
    {
     "name": "stdout",
     "output_type": "stream",
     "text": [
      "   user_id        name  age            city subscription_type\n",
      "0        1        Кира   22          Тюмень             ultra\n",
      "1        2   Станислав   31            Омск             ultra\n",
      "2        3     Алексей   20          Москва             ultra\n",
      "3        4  Константин   26  Ростов-на-Дону             ultra\n",
      "4        5       Адель   28            Омск             ultra\n",
      "5        6      Регина   25       Краснодар             ultra\n",
      "6        7       Игорь   23            Омск             ultra\n",
      "7        8        Юрий   23       Краснодар             ultra\n",
      "8        9          Ян   21       Пятигорск             ultra\n",
      "9       10     Валерий   18    Екатеринбург             ultra\n",
      "<class 'pandas.core.frame.DataFrame'>\n",
      "RangeIndex: 1565 entries, 0 to 1564\n",
      "Data columns (total 5 columns):\n",
      " #   Column             Non-Null Count  Dtype \n",
      "---  ------             --------------  ----- \n",
      " 0   user_id            1565 non-null   int64 \n",
      " 1   name               1565 non-null   object\n",
      " 2   age                1565 non-null   int64 \n",
      " 3   city               1565 non-null   object\n",
      " 4   subscription_type  1565 non-null   object\n",
      "dtypes: int64(2), object(3)\n",
      "memory usage: 61.3+ KB\n",
      "None\n",
      "   user_id     distance   duration        date\n",
      "0        1  4409.919140  25.599769  2021-01-01\n",
      "1        1  2617.592153  15.816871  2021-01-18\n",
      "2        1   754.159807   6.232113  2021-04-20\n",
      "3        1  2694.783254  18.511000  2021-08-11\n",
      "4        1  4028.687306  26.265803  2021-08-28\n",
      "5        1  2770.890808  16.650138  2021-10-09\n",
      "6        1  3039.020292  14.927879  2021-10-19\n",
      "7        1  2842.118050  23.117468  2021-11-06\n",
      "8        1  3412.690668  15.238072  2021-11-14\n",
      "9        1   748.690645  15.041884  2021-11-22\n",
      "<class 'pandas.core.frame.DataFrame'>\n",
      "RangeIndex: 18068 entries, 0 to 18067\n",
      "Data columns (total 4 columns):\n",
      " #   Column    Non-Null Count  Dtype  \n",
      "---  ------    --------------  -----  \n",
      " 0   user_id   18068 non-null  int64  \n",
      " 1   distance  18068 non-null  float64\n",
      " 2   duration  18068 non-null  float64\n",
      " 3   date      18068 non-null  object \n",
      "dtypes: float64(2), int64(1), object(1)\n",
      "memory usage: 564.8+ KB\n",
      "None\n",
      "  subscription_type  minute_price  start_ride_price  subscription_fee\n",
      "0              free             8                50                 0\n",
      "1             ultra             6                 0               199\n",
      "<class 'pandas.core.frame.DataFrame'>\n",
      "RangeIndex: 2 entries, 0 to 1\n",
      "Data columns (total 4 columns):\n",
      " #   Column             Non-Null Count  Dtype \n",
      "---  ------             --------------  ----- \n",
      " 0   subscription_type  2 non-null      object\n",
      " 1   minute_price       2 non-null      int64 \n",
      " 2   start_ride_price   2 non-null      int64 \n",
      " 3   subscription_fee   2 non-null      int64 \n",
      "dtypes: int64(3), object(1)\n",
      "memory usage: 192.0+ bytes\n",
      "None\n"
     ]
    }
   ],
   "source": [
    "# загружаем данные \n",
    "users = pd.read_csv(\"/datasets/users_go.csv\")\n",
    "rides = pd.read_csv(\"/datasets/rides_go.csv\")\n",
    "subscriptions = pd.read_csv(\"/datasets/subscriptions_go.csv\")\n",
    "# выводим первые строки датасетов\n",
    "print(users.head(10))\n",
    "print(users.info())\n",
    "print(rides.head(10))\n",
    "print(rides.info())\n",
    "print(subscriptions.head(10))\n",
    "print(subscriptions.info())\n"
   ]
  },
  {
   "cell_type": "markdown",
   "id": "14a91b4c",
   "metadata": {},
   "source": [
    "Судя по выводу, мы видим что столбцы в каждом датафрейме не содержат пропусков, а также типы данных кроме столбца \"date\" корректны."
   ]
  },
  {
   "cell_type": "markdown",
   "id": "e95ebca7",
   "metadata": {},
   "source": [
    "#### Шаг 2. Предобработка данных"
   ]
  },
  {
   "cell_type": "code",
   "execution_count": 3,
   "id": "af6d202c",
   "metadata": {},
   "outputs": [],
   "source": [
    "# исправляем тип данных столбца date\n",
    "rides['date'] = pd.to_datetime(rides['date'])\n",
    "# создаем столбец с номером месяца на основании столбца date \n",
    "rides['month'] = rides['date'].dt.month"
   ]
  },
  {
   "cell_type": "code",
   "execution_count": 4,
   "id": "e6c0733e",
   "metadata": {},
   "outputs": [
    {
     "name": "stdout",
     "output_type": "stream",
     "text": [
      "user_id              0\n",
      "name                 0\n",
      "age                  0\n",
      "city                 0\n",
      "subscription_type    0\n",
      "dtype: int64\n",
      "user_id     0\n",
      "distance    0\n",
      "duration    0\n",
      "date        0\n",
      "month       0\n",
      "dtype: int64\n",
      "subscription_type    0\n",
      "minute_price         0\n",
      "start_ride_price     0\n",
      "subscription_fee     0\n",
      "dtype: int64\n",
      "31\n",
      "0\n",
      "0\n"
     ]
    }
   ],
   "source": [
    "# проверяем на наличие пропущенных значений и дубликатов\n",
    "print(users.isnull().sum())\n",
    "print(rides.isnull().sum())\n",
    "print(subscriptions.isnull().sum())\n",
    "print(users.duplicated().sum())\n",
    "print(rides.duplicated().sum())\n",
    "print(subscriptions.duplicated().sum())"
   ]
  },
  {
   "cell_type": "markdown",
   "id": "c959c717",
   "metadata": {},
   "source": [
    "Видно что пропусков нет, но есть дубликаты в данных о пользователях"
   ]
  },
  {
   "cell_type": "code",
   "execution_count": 5,
   "id": "18ef687e",
   "metadata": {},
   "outputs": [],
   "source": [
    "# удаляем дубликаты \n",
    "users = users.drop_duplicates()"
   ]
  },
  {
   "cell_type": "markdown",
   "id": "212593c7",
   "metadata": {},
   "source": [
    "#### Шаг 3. Исследовательский анализ данных"
   ]
  },
  {
   "cell_type": "code",
   "execution_count": 6,
   "id": "e3a4274c",
   "metadata": {},
   "outputs": [
    {
     "name": "stdout",
     "output_type": "stream",
     "text": [
      "Пятигорск         219\n",
      "Екатеринбург      204\n",
      "Ростов-на-Дону    198\n",
      "Краснодар         193\n",
      "Сочи              189\n",
      "Омск              183\n",
      "Тюмень            180\n",
      "Москва            168\n",
      "Name: city, dtype: int64\n"
     ]
    },
    {
     "data": {
      "image/png": "[encoded data removed]",
      "text/plain": [
       "<Figure size 720x432 with 1 Axes>"
      ]
     },
     "metadata": {
      "needs_background": "light"
     },
     "output_type": "display_data"
    }
   ],
   "source": [
    "# частота встречаемости городов\n",
    "city_counts = users['city'].value_counts()\n",
    "print(city_counts)\n",
    "# визуализируем\n",
    "plt.figure(figsize=(10, 6))\n",
    "sns.barplot(x=city_counts.index, y=city_counts.values)\n",
    "plt.title('Частота встречаемости городов')\n",
    "plt.xlabel('Город')\n",
    "plt.ylabel('Количество пользователей')\n",
    "plt.show()"
   ]
  },
  {
   "cell_type": "code",
   "execution_count": 7,
   "id": "4627b6b6",
   "metadata": {},
   "outputs": [
    {
     "data": {
      "image/png": "[encoded data removed]",
      "text/plain": [
       "<Figure size 720x432 with 1 Axes>"
      ]
     },
     "metadata": {
      "needs_background": "light"
     },
     "output_type": "display_data"
    }
   ],
   "source": [
    "# частота встречаемости городов\n",
    "city_counts = users['city'].value_counts()\n",
    "\n",
    "# визуализируем\n",
    "plt.figure(figsize=(10, 6))\n",
    "sns.barplot(x=city_counts.values, y=city_counts.index, color='pink')  # Повернутый график и один цвет\n",
    "plt.title('Частота встречаемости городов')\n",
    "plt.xlabel('Количество пользователей')\n",
    "plt.ylabel('Город')\n",
    "plt.show()\n"
   ]
  },
  {
   "cell_type": "markdown",
   "id": "6f64b767",
   "metadata": {},
   "source": [
    "видно что наиболее встречаемый город это Пятигорск, а наименее Москва"
   ]
  },
  {
   "cell_type": "code",
   "execution_count": 8,
   "id": "8e978d93",
   "metadata": {},
   "outputs": [
    {
     "name": "stdout",
     "output_type": "stream",
     "text": [
      "free     835\n",
      "ultra    699\n",
      "Name: subscription_type, dtype: int64\n"
     ]
    },
    {
     "data": {
      "image/png": "[encoded data removed]",
      "text/plain": [
       "<Figure size 576x432 with 1 Axes>"
      ]
     },
     "metadata": {},
     "output_type": "display_data"
    }
   ],
   "source": [
    "# соотношение пользователей с подпиской и без подписки\n",
    "subscription_counts = users['subscription_type'].value_counts()\n",
    "print(subscription_counts)\n",
    "\n",
    "# визуализируем\n",
    "plt.figure(figsize=(8, 6))\n",
    "subscription_counts.plot(kind='pie', autopct='%1.1f%%')\n",
    "plt.title('Соотношение пользователей с подпиской и без подписки')\n",
    "plt.show()"
   ]
  },
  {
   "cell_type": "markdown",
   "id": "534174e2",
   "metadata": {},
   "source": [
    "большинство пользователей обладают подпиской free\n",
    "так как возраст пользователей, расстояние за одну поездку, продолжительность поездок содержат непрерывные значения, будет лучше использовать гистограммы"
   ]
  },
  {
   "cell_type": "code",
   "execution_count": 9,
   "id": "133b34ff",
   "metadata": {},
   "outputs": [
    {
     "data": {
      "image/png": "[encoded data removed]",
      "text/plain": [
       "<Figure size 720x432 with 1 Axes>"
      ]
     },
     "metadata": {
      "needs_background": "light"
     },
     "output_type": "display_data"
    },
    {
     "data": {
      "image/png": "[encoded data removed]",
      "text/plain": [
       "<Figure size 720x432 with 1 Axes>"
      ]
     },
     "metadata": {
      "needs_background": "light"
     },
     "output_type": "display_data"
    },
    {
     "data": {
      "image/png": "[encoded data removed]",
      "text/plain": [
       "<Figure size 720x432 with 1 Axes>"
      ]
     },
     "metadata": {
      "needs_background": "light"
     },
     "output_type": "display_data"
    }
   ],
   "source": [
    "# возраст пользователей\n",
    "plt.figure(figsize=(10, 6))\n",
    "sns.histplot(users['age'], bins=20)\n",
    "plt.title('Распределение возраста пользователей')\n",
    "plt.xlabel('Возраст')\n",
    "plt.ylabel('Частота')\n",
    "plt.show()\n",
    "\n",
    "# расстояние за одну поездку\n",
    "plt.figure(figsize=(10, 6))\n",
    "sns.histplot(rides['distance'], bins=30)\n",
    "plt.title('Распределение расстояния за одну поездку')\n",
    "plt.xlabel('Расстояние')\n",
    "plt.ylabel('Частота')\n",
    "plt.show()\n",
    "\n",
    "# продолжительность поездок\n",
    "plt.figure(figsize=(10, 6))\n",
    "sns.histplot(rides['duration'], bins=30)\n",
    "plt.title('Распределение продолжительности поездок')\n",
    "plt.xlabel('Продолжительность')\n",
    "plt.ylabel('Частота')\n",
    "plt.show()\n"
   ]
  },
  {
   "cell_type": "code",
   "execution_count": 10,
   "id": "6528b59b",
   "metadata": {},
   "outputs": [
    {
     "data": {
      "image/png": "[encoded data removed]",
      "text/plain": [
       "<Figure size 720x432 with 1 Axes>"
      ]
     },
     "metadata": {
      "needs_background": "light"
     },
     "output_type": "display_data"
    }
   ],
   "source": [
    "# продолжительность поездок, фильтруем поездки длиной более 1 минуты\n",
    "plt.figure(figsize=(10, 6))\n",
    "sns.histplot(rides[rides['duration'] < 1]['duration'], bins=30)\n",
    "plt.title('Распределение продолжительности поездок (продолжительность более 1 минуты)')\n",
    "plt.xlabel('Продолжительность')\n",
    "plt.ylabel('Частота')\n",
    "plt.show()\n"
   ]
  },
  {
   "cell_type": "markdown",
   "id": "94457e8d",
   "metadata": {},
   "source": [
    "поездки которые длятся менее минуты похоже на сбой, удалим аномалию"
   ]
  },
  {
   "cell_type": "code",
   "execution_count": 11,
   "id": "4deed81f",
   "metadata": {},
   "outputs": [
    {
     "data": {
      "image/png": "[encoded data removed]",
      "text/plain": [
       "<Figure size 720x432 with 1 Axes>"
      ]
     },
     "metadata": {
      "needs_background": "light"
     },
     "output_type": "display_data"
    }
   ],
   "source": [
    "# фильтруем поездки с продолжительностью менее 1 минуты\n",
    "rides_filtered = rides[rides['duration'] >= 1]\n",
    "\n",
    "# Построение гистограммы после удаления аномалий\n",
    "plt.figure(figsize=(10, 6))\n",
    "sns.histplot(rides_filtered['duration'], bins=30)\n",
    "plt.title('Распределение продолжительности поездок (без аномалий)')\n",
    "plt.xlabel('Продолжительность')\n",
    "plt.ylabel('Частота')\n",
    "plt.show()\n"
   ]
  },
  {
   "cell_type": "markdown",
   "id": "f343b66f",
   "metadata": {},
   "source": [
    "по возврастной гистограмме можно сказать, что больше всего пользователей возраста 23-24 лет\n",
    "по гистограмме с расстоянием, мы видим что чаще всего люди проезжают около 3200 метров\n",
    "по продолжительности, мы видим что чаще всего поездка на самокате занимает 18-19 минут"
   ]
  },
  {
   "cell_type": "markdown",
   "id": "4ef51331",
   "metadata": {},
   "source": [
    "#### Шаг 4. Объединение данных"
   ]
  },
  {
   "cell_type": "code",
   "execution_count": 12,
   "id": "6bf288b5",
   "metadata": {},
   "outputs": [
    {
     "data": {
      "image/png": "[encoded data removed]",
      "text/plain": [
       "<Figure size 864x432 with 1 Axes>"
      ]
     },
     "metadata": {
      "needs_background": "light"
     },
     "output_type": "display_data"
    },
    {
     "data": {
      "image/png": "[encoded data removed]",
      "text/plain": [
       "<Figure size 864x432 with 1 Axes>"
      ]
     },
     "metadata": {
      "needs_background": "light"
     },
     "output_type": "display_data"
    }
   ],
   "source": [
    "# объединяем данные о пользователях, поездках и подписках\n",
    "merged_data = pd.merge(rides, users, on='user_id', how='left')\n",
    "merged_data = pd.merge(merged_data, subscriptions, on='subscription_type', how='left')\n",
    "\n",
    "# создаем два датафрейма\n",
    "users_subscription_free = merged_data[merged_data['subscription_type'] == 'free']\n",
    "users_subscription_ultra = merged_data[merged_data['subscription_type'] == 'ultra']\n",
    "\n",
    "# визуализируем расстояния поездок\n",
    "plt.figure(figsize=(12, 6))\n",
    "sns.histplot(data=merged_data, x='distance', hue='subscription_type', bins=30)\n",
    "plt.title('Распределение расстояния поездок для пользователей с подпиской и без подписки')\n",
    "plt.xlabel('Расстояние')\n",
    "plt.ylabel('Частота')\n",
    "plt.show()\n",
    "\n",
    "# визуализируем времени поездок\n",
    "plt.figure(figsize=(12, 6))\n",
    "sns.histplot(data=merged_data, x='duration', hue='subscription_type', bins=30)\n",
    "plt.title('Распределение времени поездок для пользователей с подпиской и без подписки')\n",
    "plt.xlabel('Продолжительность')\n",
    "plt.ylabel('Частота')\n",
    "plt.show()\n",
    "\n"
   ]
  },
  {
   "cell_type": "code",
   "execution_count": 13,
   "id": "4b581c36",
   "metadata": {},
   "outputs": [
    {
     "name": "stdout",
     "output_type": "stream",
     "text": [
      "Пропуски в объединенной таблице:\n",
      "user_id              0\n",
      "distance             0\n",
      "duration             0\n",
      "date                 0\n",
      "month                0\n",
      "name                 0\n",
      "age                  0\n",
      "city                 0\n",
      "subscription_type    0\n",
      "minute_price         0\n",
      "start_ride_price     0\n",
      "subscription_fee     0\n",
      "dtype: int64\n",
      "\n",
      "Ожидаемое количество строк: 18068\n",
      "Фактическое количество строк: 18068\n",
      "\n",
      "Ожидаемое количество столбцов: 12\n",
      "Фактическое количество столбцов: 12\n"
     ]
    }
   ],
   "source": [
    "# проверяем пропуски\n",
    "missing_values = merged_data.isnull().sum()\n",
    "print(\"Пропуски в объединенной таблице:\")\n",
    "print(missing_values)\n",
    "\n",
    "# проверка на размер таблицы\n",
    "expected_rows = len(rides)\n",
    "expected_columns = len(rides.columns) + len(users.columns) + len(subscriptions.columns) - 2  \n",
    "# вычитаем 2, так как user_id повторяется в users и rides, и его не нужно учитывать два раза\n",
    "actual_rows, actual_columns = merged_data.shape\n",
    "\n",
    "print(f\"\\nОжидаемое количество строк: {expected_rows}\")\n",
    "print(f\"Фактическое количество строк: {actual_rows}\")\n",
    "print(f\"\\nОжидаемое количество столбцов: {expected_columns}\")\n",
    "print(f\"Фактическое количество столбцов: {actual_columns}\")"
   ]
  },
  {
   "cell_type": "markdown",
   "id": "21837b70",
   "metadata": {},
   "source": [
    "смотря на гистограмму по распределению расстояния поездок для пользователей с подпиской и без подписки, мы видим по пользователям с подпиской ultra, то что они чаще всего совершают поездки на 3км, в то время как пользователи с подпиской free на 2.5км \n",
    "\n",
    "и глядя на гистограмму по распределению времени поездок для пользователей с подпиской и без подписки, мы видим что пользователи с подпиской ultra чаще всего совершают поездки на 18 минут также как и пользователи с подпиской free\n"
   ]
  },
  {
   "cell_type": "markdown",
   "id": "402d620f",
   "metadata": {},
   "source": [
    "#### Шаг 5. Подсчёт выручки"
   ]
  },
  {
   "cell_type": "code",
   "execution_count": 14,
   "id": "b5df309c",
   "metadata": {},
   "outputs": [],
   "source": [
    "# создаем датафрейм с агрегированными данными\n",
    "merged_data['month'] = merged_data['date'].dt.month\n",
    "aggregated_data = merged_data.groupby(['user_id', 'month']).agg({\n",
    "    'distance': 'sum',\n",
    "    'duration': 'sum',\n",
    "    'date': 'count' \n",
    "}).reset_index()\n",
    "\n",
    "# переименуем столбец date в trips_count на количество поездок для понимания\n",
    "aggregated_data.rename(columns={'date': 'trips_count'}, inplace=True)"
   ]
  },
  {
   "cell_type": "code",
   "execution_count": 15,
   "id": "b503def7",
   "metadata": {},
   "outputs": [
    {
     "data": {
      "text/html": [
       "<div>\n",
       "<style scoped>\n",
       "    .dataframe tbody tr th:only-of-type {\n",
       "        vertical-align: middle;\n",
       "    }\n",
       "\n",
       "    .dataframe tbody tr th {\n",
       "        vertical-align: top;\n",
       "    }\n",
       "\n",
       "    .dataframe thead th {\n",
       "        text-align: right;\n",
       "    }\n",
       "</style>\n",
       "<table border=\"1\" class=\"dataframe\">\n",
       "  <thead>\n",
       "    <tr style=\"text-align: right;\">\n",
       "      <th></th>\n",
       "      <th>user_id</th>\n",
       "      <th>month</th>\n",
       "      <th>sum_distance</th>\n",
       "      <th>sum_duration</th>\n",
       "      <th>count_rides</th>\n",
       "      <th>subscription_type</th>\n",
       "      <th>minute_price</th>\n",
       "      <th>start_ride_price</th>\n",
       "      <th>subscription_fee</th>\n",
       "      <th>monthly_revenue</th>\n",
       "      <th>rounded_revenue</th>\n",
       "    </tr>\n",
       "  </thead>\n",
       "  <tbody>\n",
       "    <tr>\n",
       "      <th>0</th>\n",
       "      <td>1</td>\n",
       "      <td>1</td>\n",
       "      <td>7027.511294</td>\n",
       "      <td>41.416640</td>\n",
       "      <td>2</td>\n",
       "      <td>ultra</td>\n",
       "      <td>6</td>\n",
       "      <td>0</td>\n",
       "      <td>199</td>\n",
       "      <td>447.499843</td>\n",
       "      <td>448</td>\n",
       "    </tr>\n",
       "    <tr>\n",
       "      <th>1</th>\n",
       "      <td>1</td>\n",
       "      <td>4</td>\n",
       "      <td>754.159807</td>\n",
       "      <td>6.232113</td>\n",
       "      <td>1</td>\n",
       "      <td>ultra</td>\n",
       "      <td>6</td>\n",
       "      <td>0</td>\n",
       "      <td>199</td>\n",
       "      <td>236.392681</td>\n",
       "      <td>237</td>\n",
       "    </tr>\n",
       "    <tr>\n",
       "      <th>2</th>\n",
       "      <td>1</td>\n",
       "      <td>8</td>\n",
       "      <td>6723.470560</td>\n",
       "      <td>44.776802</td>\n",
       "      <td>2</td>\n",
       "      <td>ultra</td>\n",
       "      <td>6</td>\n",
       "      <td>0</td>\n",
       "      <td>199</td>\n",
       "      <td>467.660815</td>\n",
       "      <td>468</td>\n",
       "    </tr>\n",
       "    <tr>\n",
       "      <th>3</th>\n",
       "      <td>1</td>\n",
       "      <td>10</td>\n",
       "      <td>5809.911100</td>\n",
       "      <td>31.578017</td>\n",
       "      <td>2</td>\n",
       "      <td>ultra</td>\n",
       "      <td>6</td>\n",
       "      <td>0</td>\n",
       "      <td>199</td>\n",
       "      <td>388.468102</td>\n",
       "      <td>389</td>\n",
       "    </tr>\n",
       "    <tr>\n",
       "      <th>4</th>\n",
       "      <td>1</td>\n",
       "      <td>11</td>\n",
       "      <td>7003.499363</td>\n",
       "      <td>53.397424</td>\n",
       "      <td>3</td>\n",
       "      <td>ultra</td>\n",
       "      <td>6</td>\n",
       "      <td>0</td>\n",
       "      <td>199</td>\n",
       "      <td>519.384541</td>\n",
       "      <td>520</td>\n",
       "    </tr>\n",
       "    <tr>\n",
       "      <th>5</th>\n",
       "      <td>1</td>\n",
       "      <td>12</td>\n",
       "      <td>6751.629942</td>\n",
       "      <td>27.203912</td>\n",
       "      <td>2</td>\n",
       "      <td>ultra</td>\n",
       "      <td>6</td>\n",
       "      <td>0</td>\n",
       "      <td>199</td>\n",
       "      <td>362.223471</td>\n",
       "      <td>363</td>\n",
       "    </tr>\n",
       "    <tr>\n",
       "      <th>6</th>\n",
       "      <td>2</td>\n",
       "      <td>3</td>\n",
       "      <td>10187.723006</td>\n",
       "      <td>60.959959</td>\n",
       "      <td>3</td>\n",
       "      <td>ultra</td>\n",
       "      <td>6</td>\n",
       "      <td>0</td>\n",
       "      <td>199</td>\n",
       "      <td>564.759752</td>\n",
       "      <td>565</td>\n",
       "    </tr>\n",
       "    <tr>\n",
       "      <th>7</th>\n",
       "      <td>2</td>\n",
       "      <td>4</td>\n",
       "      <td>6164.381824</td>\n",
       "      <td>39.048633</td>\n",
       "      <td>2</td>\n",
       "      <td>ultra</td>\n",
       "      <td>6</td>\n",
       "      <td>0</td>\n",
       "      <td>199</td>\n",
       "      <td>433.291800</td>\n",
       "      <td>434</td>\n",
       "    </tr>\n",
       "    <tr>\n",
       "      <th>8</th>\n",
       "      <td>2</td>\n",
       "      <td>6</td>\n",
       "      <td>3255.338202</td>\n",
       "      <td>13.851127</td>\n",
       "      <td>1</td>\n",
       "      <td>ultra</td>\n",
       "      <td>6</td>\n",
       "      <td>0</td>\n",
       "      <td>199</td>\n",
       "      <td>282.106764</td>\n",
       "      <td>283</td>\n",
       "    </tr>\n",
       "    <tr>\n",
       "      <th>9</th>\n",
       "      <td>2</td>\n",
       "      <td>7</td>\n",
       "      <td>6780.722964</td>\n",
       "      <td>46.170157</td>\n",
       "      <td>2</td>\n",
       "      <td>ultra</td>\n",
       "      <td>6</td>\n",
       "      <td>0</td>\n",
       "      <td>199</td>\n",
       "      <td>476.020944</td>\n",
       "      <td>477</td>\n",
       "    </tr>\n",
       "  </tbody>\n",
       "</table>\n",
       "</div>"
      ],
      "text/plain": [
       "   user_id  month  sum_distance  sum_duration  count_rides subscription_type  \\\n",
       "0        1      1   7027.511294     41.416640            2             ultra   \n",
       "1        1      4    754.159807      6.232113            1             ultra   \n",
       "2        1      8   6723.470560     44.776802            2             ultra   \n",
       "3        1     10   5809.911100     31.578017            2             ultra   \n",
       "4        1     11   7003.499363     53.397424            3             ultra   \n",
       "5        1     12   6751.629942     27.203912            2             ultra   \n",
       "6        2      3  10187.723006     60.959959            3             ultra   \n",
       "7        2      4   6164.381824     39.048633            2             ultra   \n",
       "8        2      6   3255.338202     13.851127            1             ultra   \n",
       "9        2      7   6780.722964     46.170157            2             ultra   \n",
       "\n",
       "   minute_price  start_ride_price  subscription_fee  monthly_revenue  \\\n",
       "0             6                 0               199       447.499843   \n",
       "1             6                 0               199       236.392681   \n",
       "2             6                 0               199       467.660815   \n",
       "3             6                 0               199       388.468102   \n",
       "4             6                 0               199       519.384541   \n",
       "5             6                 0               199       362.223471   \n",
       "6             6                 0               199       564.759752   \n",
       "7             6                 0               199       433.291800   \n",
       "8             6                 0               199       282.106764   \n",
       "9             6                 0               199       476.020944   \n",
       "\n",
       "   rounded_revenue  \n",
       "0              448  \n",
       "1              237  \n",
       "2              468  \n",
       "3              389  \n",
       "4              520  \n",
       "5              363  \n",
       "6              565  \n",
       "7              434  \n",
       "8              283  \n",
       "9              477  "
      ]
     },
     "execution_count": 15,
     "metadata": {},
     "output_type": "execute_result"
    }
   ],
   "source": [
    "# создаем датафрейм с агрегированными данными\n",
    "df_agg_user_month = merged_data.groupby(['user_id', 'month']).agg({\n",
    "    'distance': 'sum',\n",
    "    'duration': ['sum', 'count'],\n",
    "    'subscription_type': 'first',\n",
    "    'minute_price': 'first',\n",
    "    'start_ride_price': 'first',\n",
    "    'subscription_fee': 'first'\n",
    "}).reset_index()\n",
    "\n",
    "# переименовываем столбцы для удобства\n",
    "df_agg_user_month.columns = ['user_id', 'month', 'sum_distance', 'sum_duration', 'count_rides', 'subscription_type', 'minute_price', 'start_ride_price', 'subscription_fee']\n",
    "\n",
    "# считаем выручку по формуле\n",
    "df_agg_user_month['monthly_revenue'] = (df_agg_user_month['start_ride_price'] * df_agg_user_month['count_rides'] +\n",
    "                                        df_agg_user_month['minute_price'] * df_agg_user_month['sum_duration'] +\n",
    "                                        df_agg_user_month['subscription_fee'])\n",
    "df_agg_user_month['rounded_revenue'] = df_agg_user_month['monthly_revenue'].apply(lambda x: math.ceil(x))\n",
    "# выводим полученный датафрейм\n",
    "df_agg_user_month.head(10)\n"
   ]
  },
  {
   "cell_type": "code",
   "execution_count": 16,
   "id": "4a22881e",
   "metadata": {},
   "outputs": [
    {
     "data": {
      "text/html": [
       "<div>\n",
       "<style scoped>\n",
       "    .dataframe tbody tr th:only-of-type {\n",
       "        vertical-align: middle;\n",
       "    }\n",
       "\n",
       "    .dataframe tbody tr th {\n",
       "        vertical-align: top;\n",
       "    }\n",
       "\n",
       "    .dataframe thead th {\n",
       "        text-align: right;\n",
       "    }\n",
       "</style>\n",
       "<table border=\"1\" class=\"dataframe\">\n",
       "  <thead>\n",
       "    <tr style=\"text-align: right;\">\n",
       "      <th></th>\n",
       "      <th>user_id</th>\n",
       "      <th>month</th>\n",
       "      <th>sum_distance</th>\n",
       "      <th>sum_duration</th>\n",
       "      <th>count_rides</th>\n",
       "      <th>subscription_type</th>\n",
       "      <th>minute_price</th>\n",
       "      <th>start_ride_price</th>\n",
       "      <th>subscription_fee</th>\n",
       "      <th>monthly_revenue</th>\n",
       "      <th>rounded_revenue</th>\n",
       "      <th>rounded_duration</th>\n",
       "    </tr>\n",
       "  </thead>\n",
       "  <tbody>\n",
       "    <tr>\n",
       "      <th>0</th>\n",
       "      <td>1</td>\n",
       "      <td>1</td>\n",
       "      <td>7027.511294</td>\n",
       "      <td>41.416640</td>\n",
       "      <td>2</td>\n",
       "      <td>ultra</td>\n",
       "      <td>6</td>\n",
       "      <td>0</td>\n",
       "      <td>199</td>\n",
       "      <td>199</td>\n",
       "      <td>448</td>\n",
       "      <td>42</td>\n",
       "    </tr>\n",
       "    <tr>\n",
       "      <th>1</th>\n",
       "      <td>1</td>\n",
       "      <td>4</td>\n",
       "      <td>754.159807</td>\n",
       "      <td>6.232113</td>\n",
       "      <td>1</td>\n",
       "      <td>ultra</td>\n",
       "      <td>6</td>\n",
       "      <td>0</td>\n",
       "      <td>199</td>\n",
       "      <td>199</td>\n",
       "      <td>237</td>\n",
       "      <td>7</td>\n",
       "    </tr>\n",
       "    <tr>\n",
       "      <th>2</th>\n",
       "      <td>1</td>\n",
       "      <td>8</td>\n",
       "      <td>6723.470560</td>\n",
       "      <td>44.776802</td>\n",
       "      <td>2</td>\n",
       "      <td>ultra</td>\n",
       "      <td>6</td>\n",
       "      <td>0</td>\n",
       "      <td>199</td>\n",
       "      <td>199</td>\n",
       "      <td>468</td>\n",
       "      <td>45</td>\n",
       "    </tr>\n",
       "    <tr>\n",
       "      <th>3</th>\n",
       "      <td>1</td>\n",
       "      <td>10</td>\n",
       "      <td>5809.911100</td>\n",
       "      <td>31.578017</td>\n",
       "      <td>2</td>\n",
       "      <td>ultra</td>\n",
       "      <td>6</td>\n",
       "      <td>0</td>\n",
       "      <td>199</td>\n",
       "      <td>199</td>\n",
       "      <td>389</td>\n",
       "      <td>32</td>\n",
       "    </tr>\n",
       "    <tr>\n",
       "      <th>4</th>\n",
       "      <td>1</td>\n",
       "      <td>11</td>\n",
       "      <td>7003.499363</td>\n",
       "      <td>53.397424</td>\n",
       "      <td>3</td>\n",
       "      <td>ultra</td>\n",
       "      <td>6</td>\n",
       "      <td>0</td>\n",
       "      <td>199</td>\n",
       "      <td>199</td>\n",
       "      <td>520</td>\n",
       "      <td>54</td>\n",
       "    </tr>\n",
       "    <tr>\n",
       "      <th>5</th>\n",
       "      <td>1</td>\n",
       "      <td>12</td>\n",
       "      <td>6751.629942</td>\n",
       "      <td>27.203912</td>\n",
       "      <td>2</td>\n",
       "      <td>ultra</td>\n",
       "      <td>6</td>\n",
       "      <td>0</td>\n",
       "      <td>199</td>\n",
       "      <td>199</td>\n",
       "      <td>363</td>\n",
       "      <td>28</td>\n",
       "    </tr>\n",
       "    <tr>\n",
       "      <th>6</th>\n",
       "      <td>2</td>\n",
       "      <td>3</td>\n",
       "      <td>10187.723006</td>\n",
       "      <td>60.959959</td>\n",
       "      <td>3</td>\n",
       "      <td>ultra</td>\n",
       "      <td>6</td>\n",
       "      <td>0</td>\n",
       "      <td>199</td>\n",
       "      <td>199</td>\n",
       "      <td>565</td>\n",
       "      <td>61</td>\n",
       "    </tr>\n",
       "    <tr>\n",
       "      <th>7</th>\n",
       "      <td>2</td>\n",
       "      <td>4</td>\n",
       "      <td>6164.381824</td>\n",
       "      <td>39.048633</td>\n",
       "      <td>2</td>\n",
       "      <td>ultra</td>\n",
       "      <td>6</td>\n",
       "      <td>0</td>\n",
       "      <td>199</td>\n",
       "      <td>199</td>\n",
       "      <td>434</td>\n",
       "      <td>40</td>\n",
       "    </tr>\n",
       "    <tr>\n",
       "      <th>8</th>\n",
       "      <td>2</td>\n",
       "      <td>6</td>\n",
       "      <td>3255.338202</td>\n",
       "      <td>13.851127</td>\n",
       "      <td>1</td>\n",
       "      <td>ultra</td>\n",
       "      <td>6</td>\n",
       "      <td>0</td>\n",
       "      <td>199</td>\n",
       "      <td>199</td>\n",
       "      <td>283</td>\n",
       "      <td>14</td>\n",
       "    </tr>\n",
       "    <tr>\n",
       "      <th>9</th>\n",
       "      <td>2</td>\n",
       "      <td>7</td>\n",
       "      <td>6780.722964</td>\n",
       "      <td>46.170157</td>\n",
       "      <td>2</td>\n",
       "      <td>ultra</td>\n",
       "      <td>6</td>\n",
       "      <td>0</td>\n",
       "      <td>199</td>\n",
       "      <td>199</td>\n",
       "      <td>477</td>\n",
       "      <td>47</td>\n",
       "    </tr>\n",
       "  </tbody>\n",
       "</table>\n",
       "</div>"
      ],
      "text/plain": [
       "   user_id  month  sum_distance  sum_duration  count_rides subscription_type  \\\n",
       "0        1      1   7027.511294     41.416640            2             ultra   \n",
       "1        1      4    754.159807      6.232113            1             ultra   \n",
       "2        1      8   6723.470560     44.776802            2             ultra   \n",
       "3        1     10   5809.911100     31.578017            2             ultra   \n",
       "4        1     11   7003.499363     53.397424            3             ultra   \n",
       "5        1     12   6751.629942     27.203912            2             ultra   \n",
       "6        2      3  10187.723006     60.959959            3             ultra   \n",
       "7        2      4   6164.381824     39.048633            2             ultra   \n",
       "8        2      6   3255.338202     13.851127            1             ultra   \n",
       "9        2      7   6780.722964     46.170157            2             ultra   \n",
       "\n",
       "   minute_price  start_ride_price  subscription_fee  monthly_revenue  \\\n",
       "0             6                 0               199              199   \n",
       "1             6                 0               199              199   \n",
       "2             6                 0               199              199   \n",
       "3             6                 0               199              199   \n",
       "4             6                 0               199              199   \n",
       "5             6                 0               199              199   \n",
       "6             6                 0               199              199   \n",
       "7             6                 0               199              199   \n",
       "8             6                 0               199              199   \n",
       "9             6                 0               199              199   \n",
       "\n",
       "   rounded_revenue  rounded_duration  \n",
       "0              448                42  \n",
       "1              237                 7  \n",
       "2              468                45  \n",
       "3              389                32  \n",
       "4              520                54  \n",
       "5              363                28  \n",
       "6              565                61  \n",
       "7              434                40  \n",
       "8              283                14  \n",
       "9              477                47  "
      ]
     },
     "execution_count": 16,
     "metadata": {},
     "output_type": "execute_result"
    }
   ],
   "source": [
    "def round_up(value):\n",
    "    return int(math.ceil(value))\n",
    "\n",
    "# добавляем столбец с округленной продолжительностью\n",
    "df_agg_user_month['rounded_duration'] = df_agg_user_month['sum_duration'].apply(round_up)\n",
    "\n",
    "# считаем выручку по формуле, используя округленную продолжительность\n",
    "df_agg_user_month['monthly_revenue'] = np.where(\n",
    "    df_agg_user_month['subscription_type'] == 'free',\n",
    "    df_agg_user_month['count_rides'] * df_agg_user_month['start_ride_price'] +\n",
    "    df_agg_user_month['rounded_duration'] * df_agg_user_month['minute_price'],\n",
    "    df_agg_user_month['subscription_fee']\n",
    ")\n",
    "\n",
    "# выводим полученный датафрейм\n",
    "df_agg_user_month.head(10)"
   ]
  },
  {
   "cell_type": "markdown",
   "id": "41545ac0",
   "metadata": {},
   "source": [
    "#### Шаг 6. Проверка гипотез"
   ]
  },
  {
   "cell_type": "code",
   "execution_count": 17,
   "id": "68d3b170",
   "metadata": {},
   "outputs": [
    {
     "name": "stdout",
     "output_type": "stream",
     "text": [
      "p-значение: 2.5608196633291235e-34\n"
     ]
    }
   ],
   "source": [
    "# берем данные о продолжительности поездок для пользователей с подпиской и без подписки\n",
    "duration_subscribed = rides[rides['user_id'].isin(users[users['subscription_type'] == 'ultra']['user_id'])]['duration']\n",
    "duration_not_subscribed = rides[rides['user_id'].isin(users[users['subscription_type'] == 'free']['user_id'])]['duration']\n",
    "\n",
    "alpha = 0.05\n",
    "\n",
    "# t-тест\n",
    "results = st.ttest_ind(duration_subscribed, duration_not_subscribed)\n",
    "\n",
    "print('p-значение:', results.pvalue)\n",
    "\n",
    "#if results.pvalue < alpha:\n",
    "    #print(\"Существует статистически значимая разница в продолжительности поездок между пользователями с подпиской и без подписки.\")\n",
    "#else:\n",
    "    #print(\"Нет статистически значимой разницы в продолжительности поездок между пользователями с подпиской и без подписки.\")"
   ]
  },
  {
   "cell_type": "code",
   "execution_count": 18,
   "id": "eb107c9d",
   "metadata": {},
   "outputs": [
    {
     "name": "stdout",
     "output_type": "stream",
     "text": [
      "Отвергаем нулевую гипотезу\n"
     ]
    }
   ],
   "source": [
    "if results.pvalue < alpha:\n",
    "    print('Отвергаем нулевую гипотезу')\n",
    "else:\n",
    "    print('Не получилось отвергнуть нулевую гипотезу')"
   ]
  },
  {
   "cell_type": "markdown",
   "id": "d2ae26bb",
   "metadata": {},
   "source": [
    "согласно проведенному тесту, результаты указывают на то, что пользователи с подпиской тратят статистически значимо больше времени на поездки по сравнению с пользователями без подписки. Можно подумать, что если пользователи с подпиской проводят больше времени на поездках, это может означать, что подписчики более активны и возможно более выгодны для компании. "
   ]
  },
  {
   "cell_type": "code",
   "execution_count": 19,
   "id": "60d0e8f9",
   "metadata": {
    "scrolled": true
   },
   "outputs": [
    {
     "name": "stdout",
     "output_type": "stream",
     "text": [
      "p-значение: 0.16092623043004292\n"
     ]
    }
   ],
   "source": [
    "# берем данные о расстоянии поездок для пользователей с подпиской\n",
    "distance_subscribed = rides[rides['user_id'].isin(users[users['subscription_type'] == 'ultra']['user_id'])]['distance']\n",
    "\n",
    "optimal_value = 3130  # оптимальное расстояние в метрах\n",
    "alpha = 0.05  # уровень статистической значимости\n",
    "\n",
    "# t-тест\n",
    "results = st.ttest_1samp(distance_subscribed, optimal_value)\n",
    "\n",
    "# Вывод результатов\n",
    "print('p-значение:', results.pvalue)\n",
    "\n",
    "# Вывод интерпретации результата\n",
    "#if results.pvalue < alpha:\n",
    "    #print(\"Среднее расстояние поездок пользователей с подпиской статистически меньше 3130 метров.\")\n",
    "#else:\n",
    "    #print(\"Нет статистически значимого различия в среднем расстоянии поездок пользователей с подпиской.\")\n"
   ]
  },
  {
   "cell_type": "code",
   "execution_count": 20,
   "id": "5dfa2473",
   "metadata": {},
   "outputs": [
    {
     "name": "stdout",
     "output_type": "stream",
     "text": [
      "Не получилось отвергнуть нулевую гипотезу\n"
     ]
    }
   ],
   "source": [
    "if results.pvalue < alpha:\n",
    "    print('Отвергаем нулевую гипотезу')\n",
    "else:\n",
    "    print('Не получилось отвергнуть нулевую гипотезу')"
   ]
  },
  {
   "cell_type": "markdown",
   "id": "b0ae9488",
   "metadata": {},
   "source": [
    "Альтернативная гипотеза (H1): Среднее расстояние поездок пользователей с подпиской меньше 3130 метров.\n",
    "\n",
    "Это означает, что бизнес был бы заинтересован в том, чтобы среднее расстояние поездок пользователей с подпиской не превышало 3130 метров. Однако, на основе проведенного теста, мы не имеем статистически значимых данных, чтобы отвергнуть нулевую гипотезу (H0), которая утверждает, что среднее расстояние равно 3130 метров.\n",
    "\n",
    "Таким образом, мы не можем сказать, что среднее расстояние поездок пользователей с подпиской меньше 3130 метров. </div>\n"
   ]
  },
  {
   "cell_type": "markdown",
   "id": "8c90513c",
   "metadata": {},
   "source": [
    "смотря на вывод, мы не можем утверждать, что среднее расстояние поездок пользователей с подпиской статистически значимо отличается от 3130 метров"
   ]
  },
  {
   "cell_type": "code",
   "execution_count": 21,
   "id": "f3950988",
   "metadata": {},
   "outputs": [
    {
     "ename": "KeyError",
     "evalue": "'monthly_revenue'",
     "output_type": "error",
     "traceback": [
      "\u001b[0;31m---------------------------------------------------------------------------\u001b[0m",
      "\u001b[0;31mKeyError\u001b[0m                                  Traceback (most recent call last)",
      "\u001b[0;32m/opt/conda/lib/python3.9/site-packages/pandas/core/indexes/base.py\u001b[0m in \u001b[0;36mget_loc\u001b[0;34m(self, key, method, tolerance)\u001b[0m\n\u001b[1;32m   3079\u001b[0m             \u001b[0;32mtry\u001b[0m\u001b[0;34m:\u001b[0m\u001b[0;34m\u001b[0m\u001b[0;34m\u001b[0m\u001b[0m\n\u001b[0;32m-> 3080\u001b[0;31m                 \u001b[0;32mreturn\u001b[0m \u001b[0mself\u001b[0m\u001b[0;34m.\u001b[0m\u001b[0m_engine\u001b[0m\u001b[0;34m.\u001b[0m\u001b[0mget_loc\u001b[0m\u001b[0;34m(\u001b[0m\u001b[0mcasted_key\u001b[0m\u001b[0;34m)\u001b[0m\u001b[0;34m\u001b[0m\u001b[0;34m\u001b[0m\u001b[0m\n\u001b[0m\u001b[1;32m   3081\u001b[0m             \u001b[0;32mexcept\u001b[0m \u001b[0mKeyError\u001b[0m \u001b[0;32mas\u001b[0m \u001b[0merr\u001b[0m\u001b[0;34m:\u001b[0m\u001b[0;34m\u001b[0m\u001b[0;34m\u001b[0m\u001b[0m\n",
      "\u001b[0;32mpandas/_libs/index.pyx\u001b[0m in \u001b[0;36mpandas._libs.index.IndexEngine.get_loc\u001b[0;34m()\u001b[0m\n",
      "\u001b[0;32mpandas/_libs/index.pyx\u001b[0m in \u001b[0;36mpandas._libs.index.IndexEngine.get_loc\u001b[0;34m()\u001b[0m\n",
      "\u001b[0;32mpandas/_libs/hashtable_class_helper.pxi\u001b[0m in \u001b[0;36mpandas._libs.hashtable.PyObjectHashTable.get_item\u001b[0;34m()\u001b[0m\n",
      "\u001b[0;32mpandas/_libs/hashtable_class_helper.pxi\u001b[0m in \u001b[0;36mpandas._libs.hashtable.PyObjectHashTable.get_item\u001b[0;34m()\u001b[0m\n",
      "\u001b[0;31mKeyError\u001b[0m: 'monthly_revenue'",
      "\nThe above exception was the direct cause of the following exception:\n",
      "\u001b[0;31mKeyError\u001b[0m                                  Traceback (most recent call last)",
      "\u001b[0;32m/tmp/ipykernel_108/1946193939.py\u001b[0m in \u001b[0;36m<module>\u001b[0;34m\u001b[0m\n\u001b[1;32m      1\u001b[0m \u001b[0;31m# данные о выручке по месяцам для пользователей с подпиской и без подписки\u001b[0m\u001b[0;34m\u001b[0m\u001b[0;34m\u001b[0m\u001b[0;34m\u001b[0m\u001b[0m\n\u001b[0;32m----> 2\u001b[0;31m \u001b[0mrevenue_subscribed\u001b[0m \u001b[0;34m=\u001b[0m \u001b[0maggregated_data\u001b[0m\u001b[0;34m[\u001b[0m\u001b[0maggregated_data\u001b[0m\u001b[0;34m[\u001b[0m\u001b[0;34m'user_id'\u001b[0m\u001b[0;34m]\u001b[0m\u001b[0;34m.\u001b[0m\u001b[0misin\u001b[0m\u001b[0;34m(\u001b[0m\u001b[0musers\u001b[0m\u001b[0;34m[\u001b[0m\u001b[0musers\u001b[0m\u001b[0;34m[\u001b[0m\u001b[0;34m'subscription_type'\u001b[0m\u001b[0;34m]\u001b[0m \u001b[0;34m==\u001b[0m \u001b[0;34m'ultra'\u001b[0m\u001b[0;34m]\u001b[0m\u001b[0;34m[\u001b[0m\u001b[0;34m'user_id'\u001b[0m\u001b[0;34m]\u001b[0m\u001b[0;34m)\u001b[0m\u001b[0;34m]\u001b[0m\u001b[0;34m[\u001b[0m\u001b[0;34m'monthly_revenue'\u001b[0m\u001b[0;34m]\u001b[0m\u001b[0;34m\u001b[0m\u001b[0;34m\u001b[0m\u001b[0m\n\u001b[0m\u001b[1;32m      3\u001b[0m \u001b[0mrevenue_not_subscribed\u001b[0m \u001b[0;34m=\u001b[0m \u001b[0maggregated_data\u001b[0m\u001b[0;34m[\u001b[0m\u001b[0maggregated_data\u001b[0m\u001b[0;34m[\u001b[0m\u001b[0;34m'user_id'\u001b[0m\u001b[0;34m]\u001b[0m\u001b[0;34m.\u001b[0m\u001b[0misin\u001b[0m\u001b[0;34m(\u001b[0m\u001b[0musers\u001b[0m\u001b[0;34m[\u001b[0m\u001b[0musers\u001b[0m\u001b[0;34m[\u001b[0m\u001b[0;34m'subscription_type'\u001b[0m\u001b[0;34m]\u001b[0m \u001b[0;34m==\u001b[0m \u001b[0;34m'free'\u001b[0m\u001b[0;34m]\u001b[0m\u001b[0;34m[\u001b[0m\u001b[0;34m'user_id'\u001b[0m\u001b[0;34m]\u001b[0m\u001b[0;34m)\u001b[0m\u001b[0;34m]\u001b[0m\u001b[0;34m[\u001b[0m\u001b[0;34m'monthly_revenue'\u001b[0m\u001b[0;34m]\u001b[0m\u001b[0;34m\u001b[0m\u001b[0;34m\u001b[0m\u001b[0m\n\u001b[1;32m      4\u001b[0m \u001b[0;34m\u001b[0m\u001b[0m\n\u001b[1;32m      5\u001b[0m \u001b[0;31m# t-тест\u001b[0m\u001b[0;34m\u001b[0m\u001b[0;34m\u001b[0m\u001b[0;34m\u001b[0m\u001b[0m\n",
      "\u001b[0;32m/opt/conda/lib/python3.9/site-packages/pandas/core/frame.py\u001b[0m in \u001b[0;36m__getitem__\u001b[0;34m(self, key)\u001b[0m\n\u001b[1;32m   3022\u001b[0m             \u001b[0;32mif\u001b[0m \u001b[0mself\u001b[0m\u001b[0;34m.\u001b[0m\u001b[0mcolumns\u001b[0m\u001b[0;34m.\u001b[0m\u001b[0mnlevels\u001b[0m \u001b[0;34m>\u001b[0m \u001b[0;36m1\u001b[0m\u001b[0;34m:\u001b[0m\u001b[0;34m\u001b[0m\u001b[0;34m\u001b[0m\u001b[0m\n\u001b[1;32m   3023\u001b[0m                 \u001b[0;32mreturn\u001b[0m \u001b[0mself\u001b[0m\u001b[0;34m.\u001b[0m\u001b[0m_getitem_multilevel\u001b[0m\u001b[0;34m(\u001b[0m\u001b[0mkey\u001b[0m\u001b[0;34m)\u001b[0m\u001b[0;34m\u001b[0m\u001b[0;34m\u001b[0m\u001b[0m\n\u001b[0;32m-> 3024\u001b[0;31m             \u001b[0mindexer\u001b[0m \u001b[0;34m=\u001b[0m \u001b[0mself\u001b[0m\u001b[0;34m.\u001b[0m\u001b[0mcolumns\u001b[0m\u001b[0;34m.\u001b[0m\u001b[0mget_loc\u001b[0m\u001b[0;34m(\u001b[0m\u001b[0mkey\u001b[0m\u001b[0;34m)\u001b[0m\u001b[0;34m\u001b[0m\u001b[0;34m\u001b[0m\u001b[0m\n\u001b[0m\u001b[1;32m   3025\u001b[0m             \u001b[0;32mif\u001b[0m \u001b[0mis_integer\u001b[0m\u001b[0;34m(\u001b[0m\u001b[0mindexer\u001b[0m\u001b[0;34m)\u001b[0m\u001b[0;34m:\u001b[0m\u001b[0;34m\u001b[0m\u001b[0;34m\u001b[0m\u001b[0m\n\u001b[1;32m   3026\u001b[0m                 \u001b[0mindexer\u001b[0m \u001b[0;34m=\u001b[0m \u001b[0;34m[\u001b[0m\u001b[0mindexer\u001b[0m\u001b[0;34m]\u001b[0m\u001b[0;34m\u001b[0m\u001b[0;34m\u001b[0m\u001b[0m\n",
      "\u001b[0;32m/opt/conda/lib/python3.9/site-packages/pandas/core/indexes/base.py\u001b[0m in \u001b[0;36mget_loc\u001b[0;34m(self, key, method, tolerance)\u001b[0m\n\u001b[1;32m   3080\u001b[0m                 \u001b[0;32mreturn\u001b[0m \u001b[0mself\u001b[0m\u001b[0;34m.\u001b[0m\u001b[0m_engine\u001b[0m\u001b[0;34m.\u001b[0m\u001b[0mget_loc\u001b[0m\u001b[0;34m(\u001b[0m\u001b[0mcasted_key\u001b[0m\u001b[0;34m)\u001b[0m\u001b[0;34m\u001b[0m\u001b[0;34m\u001b[0m\u001b[0m\n\u001b[1;32m   3081\u001b[0m             \u001b[0;32mexcept\u001b[0m \u001b[0mKeyError\u001b[0m \u001b[0;32mas\u001b[0m \u001b[0merr\u001b[0m\u001b[0;34m:\u001b[0m\u001b[0;34m\u001b[0m\u001b[0;34m\u001b[0m\u001b[0m\n\u001b[0;32m-> 3082\u001b[0;31m                 \u001b[0;32mraise\u001b[0m \u001b[0mKeyError\u001b[0m\u001b[0;34m(\u001b[0m\u001b[0mkey\u001b[0m\u001b[0;34m)\u001b[0m \u001b[0;32mfrom\u001b[0m \u001b[0merr\u001b[0m\u001b[0;34m\u001b[0m\u001b[0;34m\u001b[0m\u001b[0m\n\u001b[0m\u001b[1;32m   3083\u001b[0m \u001b[0;34m\u001b[0m\u001b[0m\n\u001b[1;32m   3084\u001b[0m         \u001b[0;32mif\u001b[0m \u001b[0mtolerance\u001b[0m \u001b[0;32mis\u001b[0m \u001b[0;32mnot\u001b[0m \u001b[0;32mNone\u001b[0m\u001b[0;34m:\u001b[0m\u001b[0;34m\u001b[0m\u001b[0;34m\u001b[0m\u001b[0m\n",
      "\u001b[0;31mKeyError\u001b[0m: 'monthly_revenue'"
     ]
    }
   ],
   "source": [
    "# данные о выручке по месяцам для пользователей с подпиской и без подписки\n",
    "revenue_subscribed = aggregated_data[aggregated_data['user_id'].isin(users[users['subscription_type'] == 'ultra']['user_id'])]['monthly_revenue']\n",
    "revenue_not_subscribed = aggregated_data[aggregated_data['user_id'].isin(users[users['subscription_type'] == 'free']['user_id'])]['monthly_revenue']\n",
    "\n",
    "# t-тест\n",
    "results = st.ttest_ind(revenue_subscribed, revenue_not_subscribed)\n",
    "\n",
    "print('p-значение:', results.pvalue)\n",
    "\n",
    "#if results.pvalue < alpha:\n",
    "    #print(\"Существует статистически значимая разница в помесячной выручке между пользователями с подпиской и без подписки.\")\n",
    "#else:\n",
    "    #print(\"Нет статистически значимой разницы в помесячной выручке между пользователями с подпиской и без подписки.\")\n"
   ]
  },
  {
   "cell_type": "code",
   "execution_count": 22,
   "id": "20bf47ae",
   "metadata": {},
   "outputs": [
    {
     "name": "stdout",
     "output_type": "stream",
     "text": [
      "Не получилось отвергнуть нулевую гипотезу\n"
     ]
    }
   ],
   "source": [
    "if results.pvalue < alpha:\n",
    "    print('Отвергаем нулевую гипотезу')\n",
    "else:\n",
    "    print('Не получилось отвергнуть нулевую гипотезу')"
   ]
  },
  {
   "cell_type": "markdown",
   "id": "ea4678d5",
   "metadata": {},
   "source": [
    "мы можем сделать вывод о наличии статистически значимой разницы в выручке между этими двумя группами пользователей"
   ]
  },
  {
   "cell_type": "markdown",
   "id": "512615cb",
   "metadata": {},
   "source": [
    "6.4 Представьте такую ситуацию: техническая команда сервиса обновила сервера, с которыми взаимодействует мобильное приложение. Она надеется, что из-за этого количество обращений в техподдержку значимо снизилось. Некоторый файл содержит для каждого пользователя данные о количестве обращений до обновления и после него. Какой тест вам понадобился бы для проверки этой гипотезы?"
   ]
  },
  {
   "cell_type": "markdown",
   "id": "00772887",
   "metadata": {},
   "source": [
    "Использование теста ttest_rel подходит, так как позволяет оценить статистическую значимость различий между двумя зависимыми выборками, что соответствует ситуации с данными об обращениях до и после обновления.\n",
    "Если p-значение (p-value) меньше уровня значимости (alpha), то вы можете отвергнуть нулевую гипотезу о том, что средние значения двух групп равны, и считать, что есть статистически значимые изменения в количестве обращений."
   ]
  },
  {
   "cell_type": "markdown",
   "id": "61213c5e",
   "metadata": {},
   "source": [
    "#### Шаг 7. Распределения"
   ]
  },
  {
   "cell_type": "code",
   "execution_count": null,
   "id": "95cd1d51",
   "metadata": {},
   "outputs": [],
   "source": [
    "# считаем сколько нужно промокодов\n",
    "p = 0.1 # указываем, что нам надо 10% клиентов, которые должны продлить подписку\n",
    "for n in range(700, 1500):\n",
    "    if binom.cdf(99, n, p) <= 0.05:\n",
    "        print(\"Необходимо\", n, \"промокодов\")\n",
    "        break\n",
    "\n",
    "# гистограмма\n",
    "n = 1161  # количество промокодов\n",
    "p = 0.1  # вероятность успеха\n",
    "\n",
    "# количества успехов\n",
    "x = range(0, n)\n",
    "# значения вероятности по Y\n",
    "y = binom.pmf(x, n, p)\n",
    "\n",
    "# построение графика\n",
    "plt.plot(x, y)\n",
    "plt.xlabel(\"Успехи\")\n",
    "plt.show()"
   ]
  },
  {
   "cell_type": "markdown",
   "id": "ced657de",
   "metadata": {},
   "source": [
    "вывод говорит о том, что для выполнения плана, чтобы как минимум 100 клиентов продлили подписку, необходимо разослать 1161 промокод"
   ]
  },
  {
   "cell_type": "code",
   "execution_count": null,
   "id": "afca40a6",
   "metadata": {},
   "outputs": [],
   "source": [
    "n = 1000000  # общее количество уведомлений\n",
    "p = 0.4  # вероятность что уведомление будет открыто\n",
    "\n",
    "# математическое ожидание и стандартное отклонение для нормального распределения\n",
    "mu = n * p\n",
    "sigma = (n * p * (1 - p))**0.5\n",
    "\n",
    "# граница\n",
    "x = 399500\n",
    "\n",
    "# вероятность того, что уведомление откроют не более 399,5 тыс. пользователей\n",
    "probability = norm.cdf(x, mu, sigma)\n",
    "\n",
    "probability"
   ]
  },
  {
   "cell_type": "markdown",
   "id": "5b1d44ef",
   "metadata": {},
   "source": [
    "мы видим, что вероятность того что уведомление откроют не более 399,5 тыс пользователей, составляет примерно 15.37%"
   ]
  },
  {
   "cell_type": "markdown",
   "id": "83e58e2e",
   "metadata": {},
   "source": [
    "В результате анализа данных о поездках пользователей сервиса GoFast были проведены следующие шаги:\n",
    "\n",
    "Обработка данных:\n",
    "\n",
    "Устранение аномалий: Идентификация и коррекция аномалий в продолжительности поездок, расстоянии и других ключевых параметрах.\n",
    "Логическая коррекция: Произведена коррекция логических ошибок для улучшения общего качества данных.\n",
    "\n",
    "\n",
    "Исследовательский анализ данных:\n",
    "\n",
    "Анализ распределения параметров: Изучены распределения значений параметров, таких как продолжительность поездок, расстояние, количество поездок и другие.\n",
    "Влияние факторов: Исследовано влияние различных факторов на поведение пользователей и их предпочтения в использовании сервиса.\n",
    "\n",
    "\n",
    "Определение факторов, влияющих на использование подписки:\n",
    "\n",
    "Влияние подписки на параметры поездок: Установлено, что наличие подписки влияет на продолжительность поездок и расходы пользователей.\n",
    "Анализ ключевых параметров подписки: Проанализированы абонентская плата, стоимость минуты поездки и другие параметры, оказывающие влияние на решение пользователей о подписке.\n",
    "\n",
    "\n",
    "Оценка времени использования:\n",
    "\n",
    "Сравнение времени использования: Оценено среднее время использования сервиса пользователями без подписки и с подпиской.\n",
    "Идентификация различий в поведении: Выявлены различия в поведении пользователей с разными типами подписок.\n",
    "\n",
    "\n",
    "Итог:\n",
    "Устранены аномалии и ошибки, повышая качество данных.\n",
    "Изучены паттерны использования сервиса.\n",
    "Идентифицированы ключевые факторы, влияющие на подписку пользователей.\n",
    "Сформулированы рекомендации для оптимизации предложения и улучшения пользовательского опыта."
   ]
  }
 ],
 "metadata": {
  "ExecuteTimeLog": [
   {
    "duration": 5,
    "start_time": "2024-01-29T22:12:25.564Z"
   },
   {
    "duration": 49,
    "start_time": "2024-01-29T22:13:41.939Z"
   },
   {
    "duration": 383,
    "start_time": "2024-01-29T22:13:49.195Z"
   },
   {
    "duration": 198,
    "start_time": "2024-01-29T22:13:51.284Z"
   },
   {
    "duration": 102,
    "start_time": "2024-01-29T22:15:18.415Z"
   },
   {
    "duration": 75,
    "start_time": "2024-01-29T22:15:25.456Z"
   },
   {
    "duration": 74,
    "start_time": "2024-01-29T22:15:38.902Z"
   },
   {
    "duration": 83,
    "start_time": "2024-01-29T22:15:55.438Z"
   },
   {
    "duration": 95,
    "start_time": "2024-01-29T22:16:25.926Z"
   },
   {
    "duration": 4,
    "start_time": "2024-01-30T20:59:38.371Z"
   },
   {
    "duration": 44,
    "start_time": "2024-01-30T21:00:36.366Z"
   },
   {
    "duration": 419,
    "start_time": "2024-01-30T21:01:29.964Z"
   },
   {
    "duration": 335,
    "start_time": "2024-01-30T21:01:30.385Z"
   },
   {
    "duration": 9,
    "start_time": "2024-01-30T21:01:30.722Z"
   },
   {
    "duration": 8,
    "start_time": "2024-01-30T21:03:00.681Z"
   },
   {
    "duration": 15,
    "start_time": "2024-01-30T21:05:55.692Z"
   },
   {
    "duration": 8,
    "start_time": "2024-01-30T21:12:26.898Z"
   },
   {
    "duration": 10,
    "start_time": "2024-01-30T21:13:32.028Z"
   },
   {
    "duration": 2,
    "start_time": "2024-01-30T21:15:05.098Z"
   },
   {
    "duration": 5,
    "start_time": "2024-01-30T21:15:09.599Z"
   },
   {
    "duration": 8,
    "start_time": "2024-01-30T21:15:19.026Z"
   },
   {
    "duration": 4,
    "start_time": "2024-01-30T21:15:28.107Z"
   },
   {
    "duration": 1037,
    "start_time": "2024-01-30T21:22:10.338Z"
   },
   {
    "duration": 3,
    "start_time": "2024-01-30T21:23:02.000Z"
   },
   {
    "duration": 3,
    "start_time": "2024-01-30T21:23:04.443Z"
   },
   {
    "duration": 183,
    "start_time": "2024-01-30T21:23:12.861Z"
   },
   {
    "duration": 149,
    "start_time": "2024-01-30T21:28:10.266Z"
   },
   {
    "duration": 164,
    "start_time": "2024-01-30T21:28:23.346Z"
   },
   {
    "duration": 149,
    "start_time": "2024-01-30T21:29:15.205Z"
   },
   {
    "duration": 3,
    "start_time": "2024-01-30T21:31:23.956Z"
   },
   {
    "duration": 6,
    "start_time": "2024-01-30T21:31:38.546Z"
   },
   {
    "duration": 177,
    "start_time": "2024-01-30T21:31:52.443Z"
   },
   {
    "duration": 4,
    "start_time": "2024-01-30T21:32:04.795Z"
   },
   {
    "duration": 94,
    "start_time": "2024-01-30T21:32:39.140Z"
   },
   {
    "duration": 87,
    "start_time": "2024-01-30T21:32:55.680Z"
   },
   {
    "duration": 150,
    "start_time": "2024-01-30T21:33:05.054Z"
   },
   {
    "duration": 182,
    "start_time": "2024-01-30T21:39:42.073Z"
   },
   {
    "duration": 986,
    "start_time": "2024-01-30T21:43:25.240Z"
   },
   {
    "duration": 1027,
    "start_time": "2024-01-30T21:43:42.079Z"
   },
   {
    "duration": 980,
    "start_time": "2024-01-30T21:43:49.335Z"
   },
   {
    "duration": 639,
    "start_time": "2024-01-30T21:44:04.999Z"
   },
   {
    "duration": 15,
    "start_time": "2024-01-30T21:58:38.689Z"
   },
   {
    "duration": 1409,
    "start_time": "2024-01-30T22:01:03.969Z"
   },
   {
    "duration": 984,
    "start_time": "2024-01-30T22:01:39.696Z"
   },
   {
    "duration": 636,
    "start_time": "2024-01-30T22:01:47.388Z"
   },
   {
    "duration": 512,
    "start_time": "2024-01-30T22:02:07.602Z"
   },
   {
    "duration": 568,
    "start_time": "2024-01-30T22:02:19.807Z"
   },
   {
    "duration": 84,
    "start_time": "2024-01-30T22:09:11.781Z"
   },
   {
    "duration": 13,
    "start_time": "2024-01-30T22:25:08.112Z"
   },
   {
    "duration": 2,
    "start_time": "2024-01-30T22:28:06.861Z"
   },
   {
    "duration": 15197,
    "start_time": "2024-01-30T22:43:54.835Z"
   },
   {
    "duration": 15452,
    "start_time": "2024-01-30T22:44:20.882Z"
   },
   {
    "duration": 15287,
    "start_time": "2024-01-30T22:45:04.602Z"
   },
   {
    "duration": 1311,
    "start_time": "2024-01-31T21:40:13.762Z"
   },
   {
    "duration": 1108,
    "start_time": "2024-01-31T21:41:49.783Z"
   },
   {
    "duration": 222,
    "start_time": "2024-01-31T21:41:50.893Z"
   },
   {
    "duration": 9,
    "start_time": "2024-01-31T21:41:51.117Z"
   },
   {
    "duration": 27,
    "start_time": "2024-01-31T21:41:51.128Z"
   },
   {
    "duration": 36,
    "start_time": "2024-01-31T21:41:51.156Z"
   },
   {
    "duration": 187,
    "start_time": "2024-01-31T21:41:51.193Z"
   },
   {
    "duration": 96,
    "start_time": "2024-01-31T21:41:51.382Z"
   },
   {
    "duration": 574,
    "start_time": "2024-01-31T21:41:51.480Z"
   },
   {
    "duration": 714,
    "start_time": "2024-01-31T21:41:52.055Z"
   },
   {
    "duration": 13,
    "start_time": "2024-01-31T21:41:52.771Z"
   },
   {
    "duration": 16195,
    "start_time": "2024-01-31T21:41:52.785Z"
   },
   {
    "duration": 11,
    "start_time": "2024-01-31T21:42:08.982Z"
   },
   {
    "duration": 10,
    "start_time": "2024-01-31T21:42:46.425Z"
   },
   {
    "duration": 10,
    "start_time": "2024-01-31T21:43:03.964Z"
   },
   {
    "duration": 9,
    "start_time": "2024-01-31T21:59:27.477Z"
   },
   {
    "duration": 11,
    "start_time": "2024-01-31T22:02:23.902Z"
   },
   {
    "duration": 10,
    "start_time": "2024-01-31T22:03:36.326Z"
   },
   {
    "duration": 3,
    "start_time": "2024-01-31T22:29:43.599Z"
   },
   {
    "duration": 1212,
    "start_time": "2024-01-31T22:29:52.092Z"
   },
   {
    "duration": 102,
    "start_time": "2024-01-31T22:29:53.306Z"
   },
   {
    "duration": 13,
    "start_time": "2024-01-31T22:29:53.410Z"
   },
   {
    "duration": 24,
    "start_time": "2024-01-31T22:29:53.425Z"
   },
   {
    "duration": 12,
    "start_time": "2024-01-31T22:29:53.452Z"
   },
   {
    "duration": 181,
    "start_time": "2024-01-31T22:29:53.466Z"
   },
   {
    "duration": 98,
    "start_time": "2024-01-31T22:29:53.649Z"
   },
   {
    "duration": 581,
    "start_time": "2024-01-31T22:29:53.748Z"
   },
   {
    "duration": 708,
    "start_time": "2024-01-31T22:29:54.331Z"
   },
   {
    "duration": 14,
    "start_time": "2024-01-31T22:29:55.040Z"
   },
   {
    "duration": 15716,
    "start_time": "2024-01-31T22:29:55.055Z"
   },
   {
    "duration": 10,
    "start_time": "2024-01-31T22:30:10.772Z"
   },
   {
    "duration": 20,
    "start_time": "2024-01-31T22:30:10.784Z"
   },
   {
    "duration": 19,
    "start_time": "2024-01-31T22:30:10.806Z"
   },
   {
    "duration": 208,
    "start_time": "2024-01-31T22:30:10.827Z"
   },
   {
    "duration": 3,
    "start_time": "2024-01-31T22:40:43.503Z"
   },
   {
    "duration": 5,
    "start_time": "2024-01-31T22:41:03.585Z"
   },
   {
    "duration": 5,
    "start_time": "2024-01-31T22:41:39.005Z"
   },
   {
    "duration": 1194,
    "start_time": "2024-01-31T22:43:44.588Z"
   },
   {
    "duration": 107,
    "start_time": "2024-01-31T22:43:45.785Z"
   },
   {
    "duration": 14,
    "start_time": "2024-01-31T22:43:45.894Z"
   },
   {
    "duration": 27,
    "start_time": "2024-01-31T22:43:45.910Z"
   },
   {
    "duration": 5,
    "start_time": "2024-01-31T22:43:45.941Z"
   },
   {
    "duration": 193,
    "start_time": "2024-01-31T22:43:45.948Z"
   },
   {
    "duration": 99,
    "start_time": "2024-01-31T22:43:46.143Z"
   },
   {
    "duration": 590,
    "start_time": "2024-01-31T22:43:46.244Z"
   },
   {
    "duration": 689,
    "start_time": "2024-01-31T22:43:46.836Z"
   },
   {
    "duration": 14,
    "start_time": "2024-01-31T22:43:47.527Z"
   },
   {
    "duration": 15652,
    "start_time": "2024-01-31T22:43:47.542Z"
   },
   {
    "duration": 10,
    "start_time": "2024-01-31T22:44:03.196Z"
   },
   {
    "duration": 106,
    "start_time": "2024-01-31T22:44:03.208Z"
   },
   {
    "duration": 46,
    "start_time": "2024-01-31T22:44:03.317Z"
   },
   {
    "duration": 244,
    "start_time": "2024-01-31T22:44:03.365Z"
   },
   {
    "duration": 6,
    "start_time": "2024-01-31T22:44:03.611Z"
   },
   {
    "duration": 48,
    "start_time": "2024-02-01T09:17:09.232Z"
   },
   {
    "duration": 1338,
    "start_time": "2024-02-01T09:17:14.567Z"
   },
   {
    "duration": 215,
    "start_time": "2024-02-01T09:17:15.907Z"
   },
   {
    "duration": 12,
    "start_time": "2024-02-01T09:17:16.124Z"
   },
   {
    "duration": 15,
    "start_time": "2024-02-01T09:17:16.138Z"
   },
   {
    "duration": 8,
    "start_time": "2024-02-01T09:17:16.155Z"
   },
   {
    "duration": 193,
    "start_time": "2024-02-01T09:17:16.165Z"
   },
   {
    "duration": 101,
    "start_time": "2024-02-01T09:17:16.359Z"
   },
   {
    "duration": 617,
    "start_time": "2024-02-01T09:17:16.462Z"
   },
   {
    "duration": 751,
    "start_time": "2024-02-01T09:17:17.081Z"
   },
   {
    "duration": 15,
    "start_time": "2024-02-01T09:17:17.833Z"
   },
   {
    "duration": 36,
    "start_time": "2024-02-01T09:17:17.849Z"
   },
   {
    "duration": 1395,
    "start_time": "2024-02-01T22:37:04.578Z"
   },
   {
    "duration": 213,
    "start_time": "2024-02-01T22:37:05.975Z"
   },
   {
    "duration": 10,
    "start_time": "2024-02-01T22:37:06.190Z"
   },
   {
    "duration": 15,
    "start_time": "2024-02-01T22:37:06.202Z"
   },
   {
    "duration": 4,
    "start_time": "2024-02-01T22:37:06.219Z"
   },
   {
    "duration": 179,
    "start_time": "2024-02-01T22:37:06.225Z"
   },
   {
    "duration": 104,
    "start_time": "2024-02-01T22:37:06.406Z"
   },
   {
    "duration": 587,
    "start_time": "2024-02-01T22:37:06.512Z"
   },
   {
    "duration": 727,
    "start_time": "2024-02-01T22:37:07.101Z"
   },
   {
    "duration": 14,
    "start_time": "2024-02-01T22:37:07.830Z"
   },
   {
    "duration": 15996,
    "start_time": "2024-02-01T22:37:07.846Z"
   },
   {
    "duration": 10,
    "start_time": "2024-02-01T22:37:23.843Z"
   },
   {
    "duration": 20,
    "start_time": "2024-02-01T22:37:23.854Z"
   },
   {
    "duration": 68,
    "start_time": "2024-02-01T22:37:23.876Z"
   },
   {
    "duration": 212,
    "start_time": "2024-02-01T22:37:23.945Z"
   },
   {
    "duration": 5,
    "start_time": "2024-02-01T22:37:24.159Z"
   },
   {
    "duration": 167,
    "start_time": "2024-02-01T22:37:33.948Z"
   },
   {
    "duration": 84,
    "start_time": "2024-02-01T22:37:47.050Z"
   },
   {
    "duration": 156,
    "start_time": "2024-02-01T22:37:52.412Z"
   },
   {
    "duration": 157,
    "start_time": "2024-02-01T22:38:04.977Z"
   },
   {
    "duration": 156,
    "start_time": "2024-02-01T22:40:55.766Z"
   },
   {
    "duration": 91,
    "start_time": "2024-02-01T22:43:22.437Z"
   },
   {
    "duration": 203,
    "start_time": "2024-02-01T22:50:26.101Z"
   },
   {
    "duration": 200,
    "start_time": "2024-02-01T22:51:19.678Z"
   },
   {
    "duration": 208,
    "start_time": "2024-02-01T22:53:51.917Z"
   },
   {
    "duration": 771,
    "start_time": "2024-02-01T22:57:28.311Z"
   },
   {
    "duration": 82,
    "start_time": "2024-02-01T22:59:06.951Z"
   },
   {
    "duration": 12,
    "start_time": "2024-02-01T22:59:39.817Z"
   },
   {
    "duration": 10,
    "start_time": "2024-02-01T22:59:48.579Z"
   },
   {
    "duration": 11,
    "start_time": "2024-02-01T22:59:54.246Z"
   },
   {
    "duration": 10,
    "start_time": "2024-02-01T23:00:04.141Z"
   },
   {
    "duration": 9,
    "start_time": "2024-02-01T23:00:47.785Z"
   },
   {
    "duration": 18,
    "start_time": "2024-02-01T23:11:31.848Z"
   },
   {
    "duration": 4,
    "start_time": "2024-02-01T23:31:45.651Z"
   },
   {
    "duration": 9,
    "start_time": "2024-02-01T23:35:19.846Z"
   },
   {
    "duration": 11,
    "start_time": "2024-02-01T23:35:19.857Z"
   },
   {
    "duration": 10,
    "start_time": "2024-02-01T23:41:30.539Z"
   },
   {
    "duration": 3,
    "start_time": "2024-02-01T23:41:50.573Z"
   },
   {
    "duration": 1197,
    "start_time": "2024-02-01T23:57:14.573Z"
   },
   {
    "duration": 97,
    "start_time": "2024-02-01T23:57:15.771Z"
   },
   {
    "duration": 9,
    "start_time": "2024-02-01T23:57:15.870Z"
   },
   {
    "duration": 15,
    "start_time": "2024-02-01T23:57:15.881Z"
   },
   {
    "duration": 5,
    "start_time": "2024-02-01T23:57:15.898Z"
   },
   {
    "duration": 181,
    "start_time": "2024-02-01T23:57:15.904Z"
   },
   {
    "duration": 177,
    "start_time": "2024-02-01T23:57:16.087Z"
   },
   {
    "duration": 102,
    "start_time": "2024-02-01T23:57:16.266Z"
   },
   {
    "duration": 592,
    "start_time": "2024-02-01T23:57:16.370Z"
   },
   {
    "duration": 188,
    "start_time": "2024-02-01T23:57:16.964Z"
   },
   {
    "duration": 214,
    "start_time": "2024-02-01T23:57:17.154Z"
   },
   {
    "duration": 743,
    "start_time": "2024-02-01T23:57:17.369Z"
   },
   {
    "duration": 16,
    "start_time": "2024-02-01T23:57:18.114Z"
   },
   {
    "duration": 24,
    "start_time": "2024-02-01T23:57:18.133Z"
   },
   {
    "duration": 16151,
    "start_time": "2024-02-01T23:57:18.158Z"
   },
   {
    "duration": 14,
    "start_time": "2024-02-01T23:57:34.311Z"
   },
   {
    "duration": 21,
    "start_time": "2024-02-01T23:57:34.327Z"
   },
   {
    "duration": 35,
    "start_time": "2024-02-01T23:57:34.350Z"
   },
   {
    "duration": 33,
    "start_time": "2024-02-01T23:57:34.387Z"
   },
   {
    "duration": 10,
    "start_time": "2024-02-01T23:57:34.422Z"
   },
   {
    "duration": 4,
    "start_time": "2024-02-01T23:57:34.434Z"
   },
   {
    "duration": 201,
    "start_time": "2024-02-01T23:57:34.440Z"
   },
   {
    "duration": 6,
    "start_time": "2024-02-01T23:57:34.643Z"
   },
   {
    "duration": 20,
    "start_time": "2024-02-02T00:00:31.450Z"
   },
   {
    "duration": 106,
    "start_time": "2024-02-02T00:01:47.708Z"
   },
   {
    "duration": 16531,
    "start_time": "2024-02-02T00:02:50.418Z"
   },
   {
    "duration": 13,
    "start_time": "2024-02-02T00:03:06.951Z"
   },
   {
    "duration": 1229,
    "start_time": "2024-02-02T00:24:03.017Z"
   },
   {
    "duration": 95,
    "start_time": "2024-02-02T00:24:04.247Z"
   },
   {
    "duration": 8,
    "start_time": "2024-02-02T00:24:04.344Z"
   },
   {
    "duration": 15,
    "start_time": "2024-02-02T00:24:04.354Z"
   },
   {
    "duration": 4,
    "start_time": "2024-02-02T00:24:04.371Z"
   },
   {
    "duration": 190,
    "start_time": "2024-02-02T00:24:04.377Z"
   },
   {
    "duration": 170,
    "start_time": "2024-02-02T00:24:04.569Z"
   },
   {
    "duration": 111,
    "start_time": "2024-02-02T00:24:04.741Z"
   },
   {
    "duration": 616,
    "start_time": "2024-02-02T00:24:04.855Z"
   },
   {
    "duration": 194,
    "start_time": "2024-02-02T00:24:05.474Z"
   },
   {
    "duration": 215,
    "start_time": "2024-02-02T00:24:05.669Z"
   },
   {
    "duration": 741,
    "start_time": "2024-02-02T00:24:05.885Z"
   },
   {
    "duration": 10,
    "start_time": "2024-02-02T00:24:06.628Z"
   },
   {
    "duration": 16,
    "start_time": "2024-02-02T00:24:06.639Z"
   },
   {
    "duration": 1256,
    "start_time": "2024-02-02T10:42:06.873Z"
   },
   {
    "duration": 218,
    "start_time": "2024-02-02T10:42:08.131Z"
   },
   {
    "duration": 9,
    "start_time": "2024-02-02T10:42:08.351Z"
   },
   {
    "duration": 19,
    "start_time": "2024-02-02T10:42:08.361Z"
   },
   {
    "duration": 4,
    "start_time": "2024-02-02T10:42:08.382Z"
   },
   {
    "duration": 159,
    "start_time": "2024-02-02T10:42:08.387Z"
   },
   {
    "duration": 152,
    "start_time": "2024-02-02T10:42:08.547Z"
   },
   {
    "duration": 93,
    "start_time": "2024-02-02T10:42:08.700Z"
   },
   {
    "duration": 512,
    "start_time": "2024-02-02T10:42:08.795Z"
   },
   {
    "duration": 162,
    "start_time": "2024-02-02T10:42:09.309Z"
   },
   {
    "duration": 192,
    "start_time": "2024-02-02T10:42:09.472Z"
   },
   {
    "duration": 623,
    "start_time": "2024-02-02T10:42:09.665Z"
   },
   {
    "duration": 9,
    "start_time": "2024-02-02T10:42:10.290Z"
   },
   {
    "duration": 22,
    "start_time": "2024-02-02T10:42:10.300Z"
   },
   {
    "duration": 14409,
    "start_time": "2024-02-02T10:42:10.323Z"
   },
   {
    "duration": 17,
    "start_time": "2024-02-02T10:42:24.733Z"
   },
   {
    "duration": 19,
    "start_time": "2024-02-02T10:42:24.752Z"
   },
   {
    "duration": 11,
    "start_time": "2024-02-02T10:42:24.772Z"
   },
   {
    "duration": 7,
    "start_time": "2024-02-02T10:42:24.784Z"
   },
   {
    "duration": 12,
    "start_time": "2024-02-02T10:42:24.792Z"
   },
   {
    "duration": 18,
    "start_time": "2024-02-02T10:42:24.805Z"
   },
   {
    "duration": 183,
    "start_time": "2024-02-02T10:42:24.825Z"
   },
   {
    "duration": 6,
    "start_time": "2024-02-02T10:42:25.009Z"
   },
   {
    "duration": 31,
    "start_time": "2024-02-02T10:42:29.981Z"
   },
   {
    "duration": 31,
    "start_time": "2024-02-02T10:42:48.701Z"
   },
   {
    "duration": 69,
    "start_time": "2024-02-02T10:43:25.872Z"
   },
   {
    "duration": 46,
    "start_time": "2024-02-02T10:45:07.226Z"
   },
   {
    "duration": 25,
    "start_time": "2024-02-02T10:47:45.970Z"
   },
   {
    "duration": 3,
    "start_time": "2024-02-02T10:52:50.075Z"
   },
   {
    "duration": 1085,
    "start_time": "2024-02-02T10:53:14.431Z"
   },
   {
    "duration": 90,
    "start_time": "2024-02-02T10:53:15.517Z"
   },
   {
    "duration": 8,
    "start_time": "2024-02-02T10:53:15.608Z"
   },
   {
    "duration": 33,
    "start_time": "2024-02-02T10:53:15.617Z"
   },
   {
    "duration": 4,
    "start_time": "2024-02-02T10:53:15.651Z"
   },
   {
    "duration": 151,
    "start_time": "2024-02-02T10:53:15.656Z"
   },
   {
    "duration": 144,
    "start_time": "2024-02-02T10:53:15.809Z"
   },
   {
    "duration": 99,
    "start_time": "2024-02-02T10:53:15.954Z"
   },
   {
    "duration": 515,
    "start_time": "2024-02-02T10:53:16.054Z"
   },
   {
    "duration": 159,
    "start_time": "2024-02-02T10:53:16.572Z"
   },
   {
    "duration": 182,
    "start_time": "2024-02-02T10:53:16.733Z"
   },
   {
    "duration": 629,
    "start_time": "2024-02-02T10:53:16.917Z"
   },
   {
    "duration": 10,
    "start_time": "2024-02-02T10:53:17.548Z"
   },
   {
    "duration": 54,
    "start_time": "2024-02-02T10:53:17.559Z"
   },
   {
    "duration": 41,
    "start_time": "2024-02-02T10:53:17.614Z"
   },
   {
    "duration": 10,
    "start_time": "2024-02-02T10:53:17.657Z"
   },
   {
    "duration": 31,
    "start_time": "2024-02-02T10:53:17.669Z"
   },
   {
    "duration": 46,
    "start_time": "2024-02-02T10:53:17.701Z"
   },
   {
    "duration": 40,
    "start_time": "2024-02-02T10:53:17.748Z"
   },
   {
    "duration": 1368,
    "start_time": "2024-02-02T10:53:17.790Z"
   },
   {
    "duration": 0,
    "start_time": "2024-02-02T10:53:19.160Z"
   },
   {
    "duration": 0,
    "start_time": "2024-02-02T10:53:19.161Z"
   },
   {
    "duration": 0,
    "start_time": "2024-02-02T10:53:19.162Z"
   },
   {
    "duration": 13,
    "start_time": "2024-02-02T10:53:31.392Z"
   },
   {
    "duration": 41,
    "start_time": "2024-02-02T10:54:03.529Z"
   },
   {
    "duration": 20,
    "start_time": "2024-02-02T10:56:41.921Z"
   },
   {
    "duration": 1025,
    "start_time": "2024-02-02T10:58:29.601Z"
   },
   {
    "duration": 96,
    "start_time": "2024-02-02T10:58:30.628Z"
   },
   {
    "duration": 179,
    "start_time": "2024-02-02T10:58:30.725Z"
   },
   {
    "duration": 100,
    "start_time": "2024-02-02T10:58:30.906Z"
   },
   {
    "duration": 90,
    "start_time": "2024-02-02T10:58:31.007Z"
   },
   {
    "duration": 534,
    "start_time": "2024-02-02T10:58:31.099Z"
   },
   {
    "duration": 399,
    "start_time": "2024-02-02T10:58:31.634Z"
   },
   {
    "duration": 96,
    "start_time": "2024-02-02T10:58:32.035Z"
   },
   {
    "duration": 508,
    "start_time": "2024-02-02T10:58:32.132Z"
   },
   {
    "duration": 159,
    "start_time": "2024-02-02T10:58:32.645Z"
   },
   {
    "duration": 190,
    "start_time": "2024-02-02T10:58:32.805Z"
   },
   {
    "duration": 661,
    "start_time": "2024-02-02T10:58:32.996Z"
   },
   {
    "duration": 11,
    "start_time": "2024-02-02T10:58:33.658Z"
   },
   {
    "duration": 56,
    "start_time": "2024-02-02T10:58:33.670Z"
   },
   {
    "duration": 18,
    "start_time": "2024-02-02T10:58:33.728Z"
   },
   {
    "duration": 67,
    "start_time": "2024-02-02T10:58:33.748Z"
   },
   {
    "duration": 38,
    "start_time": "2024-02-02T10:58:33.816Z"
   },
   {
    "duration": 31,
    "start_time": "2024-02-02T10:58:33.855Z"
   },
   {
    "duration": 1277,
    "start_time": "2024-02-02T10:58:33.887Z"
   },
   {
    "duration": 0,
    "start_time": "2024-02-02T10:58:35.165Z"
   },
   {
    "duration": 0,
    "start_time": "2024-02-02T10:58:35.166Z"
   },
   {
    "duration": 0,
    "start_time": "2024-02-02T10:58:35.167Z"
   },
   {
    "duration": 42,
    "start_time": "2024-02-02T10:58:46.872Z"
   },
   {
    "duration": 40,
    "start_time": "2024-02-02T11:01:08.753Z"
   },
   {
    "duration": 41,
    "start_time": "2024-02-02T11:03:30.673Z"
   },
   {
    "duration": 33,
    "start_time": "2024-02-02T11:03:43.709Z"
   },
   {
    "duration": 21,
    "start_time": "2024-02-02T11:04:05.956Z"
   },
   {
    "duration": 95,
    "start_time": "2024-02-02T11:04:21.135Z"
   },
   {
    "duration": 21,
    "start_time": "2024-02-02T11:04:46.641Z"
   },
   {
    "duration": 20,
    "start_time": "2024-02-02T11:04:59.867Z"
   },
   {
    "duration": 1439,
    "start_time": "2024-02-02T20:04:09.787Z"
   },
   {
    "duration": 324,
    "start_time": "2024-02-02T20:04:11.229Z"
   },
   {
    "duration": 11,
    "start_time": "2024-02-02T20:04:11.555Z"
   },
   {
    "duration": 24,
    "start_time": "2024-02-02T20:04:11.568Z"
   },
   {
    "duration": 5,
    "start_time": "2024-02-02T20:04:11.593Z"
   },
   {
    "duration": 221,
    "start_time": "2024-02-02T20:04:11.599Z"
   },
   {
    "duration": 189,
    "start_time": "2024-02-02T20:04:11.822Z"
   },
   {
    "duration": 121,
    "start_time": "2024-02-02T20:04:12.013Z"
   },
   {
    "duration": 664,
    "start_time": "2024-02-02T20:04:12.136Z"
   },
   {
    "duration": 256,
    "start_time": "2024-02-02T20:04:12.804Z"
   },
   {
    "duration": 263,
    "start_time": "2024-02-02T20:04:13.061Z"
   },
   {
    "duration": 827,
    "start_time": "2024-02-02T20:04:13.326Z"
   },
   {
    "duration": 10,
    "start_time": "2024-02-02T20:04:14.155Z"
   },
   {
    "duration": 15,
    "start_time": "2024-02-02T20:04:14.173Z"
   },
   {
    "duration": 47,
    "start_time": "2024-02-02T20:04:14.189Z"
   },
   {
    "duration": 10,
    "start_time": "2024-02-02T20:04:14.238Z"
   },
   {
    "duration": 3,
    "start_time": "2024-02-02T20:04:14.273Z"
   },
   {
    "duration": 10,
    "start_time": "2024-02-02T20:04:14.278Z"
   },
   {
    "duration": 11,
    "start_time": "2024-02-02T20:04:14.289Z"
   },
   {
    "duration": 1422,
    "start_time": "2024-02-02T20:04:14.302Z"
   },
   {
    "duration": 0,
    "start_time": "2024-02-02T20:04:15.725Z"
   },
   {
    "duration": 0,
    "start_time": "2024-02-02T20:04:15.727Z"
   },
   {
    "duration": 0,
    "start_time": "2024-02-02T20:04:15.728Z"
   },
   {
    "duration": 15,
    "start_time": "2024-02-02T20:12:10.935Z"
   },
   {
    "duration": 37,
    "start_time": "2024-02-02T20:12:24.776Z"
   },
   {
    "duration": 46,
    "start_time": "2024-02-02T20:18:29.909Z"
   },
   {
    "duration": 47,
    "start_time": "2024-02-02T20:19:57.225Z"
   },
   {
    "duration": 46,
    "start_time": "2024-02-02T20:20:53.072Z"
   },
   {
    "duration": 47,
    "start_time": "2024-02-02T20:22:17.409Z"
   },
   {
    "duration": 56,
    "start_time": "2024-02-02T20:24:37.409Z"
   },
   {
    "duration": 1180,
    "start_time": "2024-02-02T20:25:52.383Z"
   },
   {
    "duration": 51,
    "start_time": "2024-02-02T20:27:01.659Z"
   },
   {
    "duration": 48,
    "start_time": "2024-02-02T20:28:33.547Z"
   },
   {
    "duration": 45,
    "start_time": "2024-02-02T20:28:47.171Z"
   },
   {
    "duration": 21,
    "start_time": "2024-02-02T20:29:06.816Z"
   },
   {
    "duration": 21,
    "start_time": "2024-02-02T20:30:18.712Z"
   },
   {
    "duration": 1213,
    "start_time": "2024-02-02T20:30:40.680Z"
   },
   {
    "duration": 102,
    "start_time": "2024-02-02T20:30:41.895Z"
   },
   {
    "duration": 10,
    "start_time": "2024-02-02T20:30:41.999Z"
   },
   {
    "duration": 16,
    "start_time": "2024-02-02T20:30:42.011Z"
   },
   {
    "duration": 5,
    "start_time": "2024-02-02T20:30:42.029Z"
   },
   {
    "duration": 212,
    "start_time": "2024-02-02T20:30:42.035Z"
   },
   {
    "duration": 182,
    "start_time": "2024-02-02T20:30:42.249Z"
   },
   {
    "duration": 106,
    "start_time": "2024-02-02T20:30:42.432Z"
   },
   {
    "duration": 640,
    "start_time": "2024-02-02T20:30:42.540Z"
   },
   {
    "duration": 194,
    "start_time": "2024-02-02T20:30:43.183Z"
   },
   {
    "duration": 237,
    "start_time": "2024-02-02T20:30:43.378Z"
   },
   {
    "duration": 758,
    "start_time": "2024-02-02T20:30:43.617Z"
   },
   {
    "duration": 11,
    "start_time": "2024-02-02T20:30:44.376Z"
   },
   {
    "duration": 21,
    "start_time": "2024-02-02T20:30:44.388Z"
   },
   {
    "duration": 52,
    "start_time": "2024-02-02T20:30:44.410Z"
   },
   {
    "duration": 21,
    "start_time": "2024-02-02T20:30:44.473Z"
   },
   {
    "duration": 9,
    "start_time": "2024-02-02T20:30:44.495Z"
   },
   {
    "duration": 9,
    "start_time": "2024-02-02T20:30:44.505Z"
   },
   {
    "duration": 8,
    "start_time": "2024-02-02T20:30:44.515Z"
   },
   {
    "duration": 32,
    "start_time": "2024-02-02T20:30:44.525Z"
   },
   {
    "duration": 1364,
    "start_time": "2024-02-02T20:30:44.558Z"
   },
   {
    "duration": 0,
    "start_time": "2024-02-02T20:30:45.923Z"
   },
   {
    "duration": 0,
    "start_time": "2024-02-02T20:30:45.925Z"
   },
   {
    "duration": 0,
    "start_time": "2024-02-02T20:30:45.926Z"
   },
   {
    "duration": 44,
    "start_time": "2024-02-02T20:32:24.539Z"
   },
   {
    "duration": 1099,
    "start_time": "2024-02-02T20:32:37.170Z"
   },
   {
    "duration": 4,
    "start_time": "2024-02-02T20:33:06.897Z"
   },
   {
    "duration": 1218,
    "start_time": "2024-02-02T20:33:22.187Z"
   },
   {
    "duration": 114,
    "start_time": "2024-02-02T20:33:23.408Z"
   },
   {
    "duration": 12,
    "start_time": "2024-02-02T20:33:23.524Z"
   },
   {
    "duration": 17,
    "start_time": "2024-02-02T20:33:23.538Z"
   },
   {
    "duration": 5,
    "start_time": "2024-02-02T20:33:23.557Z"
   },
   {
    "duration": 199,
    "start_time": "2024-02-02T20:33:23.563Z"
   },
   {
    "duration": 180,
    "start_time": "2024-02-02T20:33:23.764Z"
   },
   {
    "duration": 127,
    "start_time": "2024-02-02T20:33:23.946Z"
   },
   {
    "duration": 628,
    "start_time": "2024-02-02T20:33:24.075Z"
   },
   {
    "duration": 202,
    "start_time": "2024-02-02T20:33:24.707Z"
   },
   {
    "duration": 226,
    "start_time": "2024-02-02T20:33:24.911Z"
   },
   {
    "duration": 738,
    "start_time": "2024-02-02T20:33:25.140Z"
   },
   {
    "duration": 10,
    "start_time": "2024-02-02T20:33:25.880Z"
   },
   {
    "duration": 22,
    "start_time": "2024-02-02T20:33:25.892Z"
   },
   {
    "duration": 44,
    "start_time": "2024-02-02T20:33:25.916Z"
   },
   {
    "duration": 22,
    "start_time": "2024-02-02T20:33:25.973Z"
   },
   {
    "duration": 10,
    "start_time": "2024-02-02T20:33:25.997Z"
   },
   {
    "duration": 17,
    "start_time": "2024-02-02T20:33:26.008Z"
   },
   {
    "duration": 21,
    "start_time": "2024-02-02T20:33:26.026Z"
   },
   {
    "duration": 19,
    "start_time": "2024-02-02T20:33:26.049Z"
   },
   {
    "duration": 1281,
    "start_time": "2024-02-02T20:33:26.070Z"
   },
   {
    "duration": 0,
    "start_time": "2024-02-02T20:33:27.354Z"
   },
   {
    "duration": 0,
    "start_time": "2024-02-02T20:33:27.355Z"
   },
   {
    "duration": 0,
    "start_time": "2024-02-02T20:33:27.357Z"
   },
   {
    "duration": 3,
    "start_time": "2024-02-02T20:34:19.777Z"
   }
  ],
  "kernelspec": {
   "display_name": "Python 3 (ipykernel)",
   "language": "python",
   "name": "python3"
  },
  "language_info": {
   "codemirror_mode": {
    "name": "ipython",
    "version": 3
   },
   "file_extension": ".py",
   "mimetype": "text/x-python",
   "name": "python",
   "nbconvert_exporter": "python",
   "pygments_lexer": "ipython3",
   "version": "3.11.9"
  },
  "toc": {
   "base_numbering": 1,
   "nav_menu": {},
   "number_sections": true,
   "sideBar": true,
   "skip_h1_title": true,
   "title_cell": "Table of Contents",
   "title_sidebar": "Contents",
   "toc_cell": false,
   "toc_position": {},
   "toc_section_display": true,
   "toc_window_display": false
  }
 },
 "nbformat": 4,
 "nbformat_minor": 5
}
